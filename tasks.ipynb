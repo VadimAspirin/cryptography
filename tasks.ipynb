{
 "cells": [
  {
   "cell_type": "code",
   "execution_count": 1,
   "metadata": {},
   "outputs": [],
   "source": [
    "import base64\n",
    "import re\n",
    "import os"
   ]
  },
  {
   "cell_type": "markdown",
   "metadata": {},
   "source": [
    "## Задание 1.\n",
    "\n",
    "Напишите функцию конвертации текста, представленном в шестнацеричном виде, в base64.\n",
    "\n",
    "*Пример:*\n",
    "\n",
    "Входные данные:\n",
    "\n",
    "49276d207374756479696e672043727970746f677261706879206c696b6520436c6175646520456c776f6f64205368616e6e6f6e21\n",
    "\n",
    "Выходные данные: \n",
    "\n",
    "SSdtIHN0dWR5aW5nIENyeXB0b2dyYXBoeSBsaWtlIENsYXVkZSBFbHdvb2QgU2hhbm5vbiE="
   ]
  },
  {
   "cell_type": "code",
   "execution_count": 2,
   "metadata": {},
   "outputs": [],
   "source": [
    "in_str = \"49276d207374756479696e672043727970746f677261706879206c696b6520436c6175646520456c776f6f64205368616e6e6f6e21\"\n",
    "out_str = b\"SSdtIHN0dWR5aW5nIENyeXB0b2dyYXBoeSBsaWtlIENsYXVkZSBFbHdvb2QgU2hhbm5vbiE=\""
   ]
  },
  {
   "cell_type": "code",
   "execution_count": 3,
   "metadata": {},
   "outputs": [],
   "source": [
    "def hex_str_to_str(input_str):\n",
    "    result = \"\"\n",
    "    for i in range(0, len(input_str), 2):\n",
    "        ch16 = input_str[i:i+2]\n",
    "        ch10 = int(ch16, 16)\n",
    "        ch = chr(ch10)\n",
    "        result += ch\n",
    "    return result\n",
    "\n",
    "def hex_str_to_base64(input_str):\n",
    "    return base64.b64encode(hex_str_to_str(input_str).encode('ascii'))"
   ]
  },
  {
   "cell_type": "code",
   "execution_count": 4,
   "metadata": {},
   "outputs": [],
   "source": [
    "in_str_proc = hex_str_to_base64(in_str)"
   ]
  },
  {
   "cell_type": "code",
   "execution_count": 5,
   "metadata": {},
   "outputs": [
    {
     "data": {
      "text/plain": [
       "True"
      ]
     },
     "execution_count": 5,
     "metadata": {},
     "output_type": "execute_result"
    }
   ],
   "source": [
    "in_str_proc == out_str"
   ]
  },
  {
   "cell_type": "code",
   "execution_count": 6,
   "metadata": {},
   "outputs": [
    {
     "data": {
      "text/plain": [
       "b\"I'm studying Cryptography like Claude Elwood Shannon!\""
      ]
     },
     "execution_count": 6,
     "metadata": {},
     "output_type": "execute_result"
    }
   ],
   "source": [
    "base64.b64decode(out_str)"
   ]
  },
  {
   "cell_type": "code",
   "execution_count": 7,
   "metadata": {},
   "outputs": [
    {
     "data": {
      "text/plain": [
       "b\"I'm studying Cryptography like Claude Elwood Shannon!\""
      ]
     },
     "execution_count": 7,
     "metadata": {},
     "output_type": "execute_result"
    }
   ],
   "source": [
    "base64.b64decode(in_str_proc)"
   ]
  },
  {
   "cell_type": "markdown",
   "metadata": {},
   "source": [
    "## Задание 2.\n",
    "\n",
    "Напишите функцию, которая принимает в качестве параметров два буфера одинаковой длины и производит операцию XOR над ними.\n",
    "\n",
    "*Пример:*\n",
    "\n",
    "Входные данные:\n",
    "\n",
    "506561636520416c6c204f7665722054686520576f726c64\n",
    "\n",
    "XOR\n",
    "\n",
    "4949544353551c0111001f010100061a021f010100061a02\n",
    "\n",
    "=\n",
    "\n",
    "192C352036755D6D7D2050776472264E6A7A21566F747666"
   ]
  },
  {
   "cell_type": "code",
   "execution_count": 8,
   "metadata": {},
   "outputs": [],
   "source": [
    "b1 = \"506561636520416c6c204f7665722054686520576f726c64\"\n",
    "b2 = \"4949544353551c0111001f010100061a021f010100061a02\"\n",
    "out = \"192C352036755D6D7D2050776472264E6A7A21566F747666\""
   ]
  },
  {
   "cell_type": "code",
   "execution_count": 9,
   "metadata": {},
   "outputs": [
    {
     "data": {
      "text/plain": [
       "'Peace All Over The World'"
      ]
     },
     "execution_count": 9,
     "metadata": {},
     "output_type": "execute_result"
    }
   ],
   "source": [
    "hex_str_to_str(b1)"
   ]
  },
  {
   "cell_type": "code",
   "execution_count": 10,
   "metadata": {},
   "outputs": [],
   "source": [
    "def xor_two_hex_str(b1, b2):\n",
    "    assert len(b1) == len(b2)\n",
    "    result = \"\"\n",
    "    for i in range(len(b1)):\n",
    "        result += f'{int(b1[i], 16) ^ int(b2[i], 16):x}'\n",
    "    return result.upper()"
   ]
  },
  {
   "cell_type": "code",
   "execution_count": 11,
   "metadata": {},
   "outputs": [],
   "source": [
    "result = xor_two_hex_str(\"506561636520416c6c204f7665722054686520576f726c64\", \"4949544353551c0111001f010100061a021f010100061a02\")"
   ]
  },
  {
   "cell_type": "code",
   "execution_count": 12,
   "metadata": {},
   "outputs": [
    {
     "data": {
      "text/plain": [
       "True"
      ]
     },
     "execution_count": 12,
     "metadata": {},
     "output_type": "execute_result"
    }
   ],
   "source": [
    "out == result"
   ]
  },
  {
   "cell_type": "markdown",
   "metadata": {},
   "source": [
    "## Задание 3.\n",
    "\n",
    "**(не использовать метод полного перебора ключа)**\n",
    "\n",
    "Дана строка закодированная в 16-виде. Данную строку получили путем операции XOR некоторого текста с одним символом. Расшифруйте это сообщение. \n",
    "\n",
    "*Пример:*\n",
    "\n",
    "Входные данные:\n",
    "\n",
    "19367831362e3d2b2c353d362c783136783336372f343d3c3f3d7839342f39212b782839212b782c303d783a3d2b2c7831362c3d2a3d2b2c\n",
    "\n",
    "Стадии выполнения задания:\n",
    "\n",
    "1: выполните задание без программной автоматизации - \"на листочке\".  \n",
    "2: напишите программу дешифратор."
   ]
  },
  {
   "cell_type": "code",
   "execution_count": 13,
   "metadata": {},
   "outputs": [],
   "source": [
    "in_str = \"19367831362e3d2b2c353d362c783136783336372f343d3c3f3d7839342f39212b782839212b782c303d783a3d2b2c7831362c3d2a3d2b2c\""
   ]
  },
  {
   "cell_type": "code",
   "execution_count": 14,
   "metadata": {},
   "outputs": [],
   "source": [
    "# Делаем предположение, что в строке самый часто-встречающийся символ - это 'e' (самый часто-встречающийся символ в англ. языке)\n",
    "# https://en.wikipedia.org/wiki/Letter_frequency\n",
    "symb = f\"{ord('e'):x}\""
   ]
  },
  {
   "cell_type": "code",
   "execution_count": 15,
   "metadata": {},
   "outputs": [],
   "source": [
    "# Находим самый часто-встречающийся символ в зашифрованной строке\n",
    "in_str_symb = [in_str[i:i+2] for i in range(0, len(in_str), 2)]\n",
    "unique_symb = list(set(in_str_symb))\n",
    "count_values = [in_str_symb.count(i) for i in unique_symb]\n",
    "symb_decode = unique_symb[count_values.index(max(count_values))]"
   ]
  },
  {
   "cell_type": "code",
   "execution_count": 16,
   "metadata": {},
   "outputs": [],
   "source": [
    "# Находим ключевой символ, путём повторного применения xor\n",
    "symb_key = f'{int(symb_decode, 16) ^ int(symb, 16):x}'"
   ]
  },
  {
   "cell_type": "code",
   "execution_count": 17,
   "metadata": {},
   "outputs": [],
   "source": [
    "def xor_hex_str_and_symb(hex_str, hex_symb):\n",
    "    result = \"\"\n",
    "    for i in range(0, len(hex_str), 2):\n",
    "        result += f'{int(hex_str[i:i+2], 16) ^ int(hex_symb, 16):x}'\n",
    "    return result.upper()"
   ]
  },
  {
   "cell_type": "code",
   "execution_count": 18,
   "metadata": {},
   "outputs": [],
   "source": [
    "result = xor_hex_str_and_symb(in_str, symb_key)"
   ]
  },
  {
   "cell_type": "code",
   "execution_count": 19,
   "metadata": {},
   "outputs": [
    {
     "data": {
      "text/plain": [
       "'An investment in knowledge always pays the best interest'"
      ]
     },
     "execution_count": 19,
     "metadata": {},
     "output_type": "execute_result"
    }
   ],
   "source": [
    "hex_str_to_str(result)"
   ]
  },
  {
   "cell_type": "markdown",
   "metadata": {},
   "source": [
    "## Задание 4.\n",
    "В качестве входных данных дается файл со строками в hex. Одна из этих строк зашифрована с помощью XOR на одно-символьном ключе. Найдите и расшифруйте эту строку."
   ]
  },
  {
   "cell_type": "code",
   "execution_count": 20,
   "metadata": {},
   "outputs": [],
   "source": [
    "data_dir = \"data/task4\"\n",
    "data_files = os.listdir(data_dir)\n",
    "data_files.sort()"
   ]
  },
  {
   "cell_type": "code",
   "execution_count": 21,
   "metadata": {},
   "outputs": [],
   "source": [
    "def brut_search_encoded_str_and_decode(data, max_error=1):\n",
    "    reg = re.compile(u\"[^a-zA-Z ?!-.',]\")\n",
    "    for i, line in enumerate(data):        \n",
    "        symb_count = len(line) / 2\n",
    "        for key in range(256):\n",
    "            result_str = hex_str_to_str(xor_hex_str_and_symb(line, f\"{key:x}\"))\n",
    "            result_str_reg = reg.sub('', result_str)\n",
    "            if abs(len(result_str_reg) - symb_count) <= max_error:\n",
    "                return i, chr(key), result_str_reg\n",
    "    return None"
   ]
  },
  {
   "cell_type": "code",
   "execution_count": 22,
   "metadata": {},
   "outputs": [
    {
     "name": "stdout",
     "output_type": "stream",
     "text": [
      "file: task140.input  string_line: 373  key_symbol: a  decoded_string: Kakim umnym ja sebja chuvstvuu\n",
      "file: task141.input  string_line: 170  key_symbol: 5  decoded_string: Now that the party is jumping\n",
      "file: task142.input  string_line: 373  key_symbol: a  decoded_string: Kakim umnym ja sebja chuvstvuu\n"
     ]
    }
   ],
   "source": [
    "for data_file in data_files:\n",
    "    with open(os.path.join(data_dir, data_file), 'r') as f:\n",
    "        data = f.read()\n",
    "    data = data.split('\\n')\n",
    "    data = [d for d in data if d]\n",
    "    result = brut_search_encoded_str_and_decode(data)\n",
    "    if not result:\n",
    "        print(f\"file: {data_file} string not found\")\n",
    "        continue\n",
    "    print(f\"file: {data_file}  string_line: {result[0]}  key_symbol: {result[1]}  decoded_string: {result[2]}\")"
   ]
  },
  {
   "cell_type": "markdown",
   "metadata": {},
   "source": [
    "## Задание 5.\n",
    "Реализуйте шифрование XOR'ом с повторяющимся ключом.\n",
    "\n",
    "\n",
    "*Пример:*\n",
    "\n",
    "Входные данные: *data/task5/task15.input*\n",
    "\n",
    "Ключ: Shannon\n",
    "\n",
    "Результат: 00000000000000730b0e001a1d07311d150b0a4f1a3c4815060b4f083a0d0d0a4e0008730b13171e1b0f3d090d171d061d730e0e1c4e010f27010e000f034e370d070b001c0b730c141c070109733f0e1c020b4e0409134e272642736208000d031b37010f094e07072048030f1d060d731f0e1c054f013d4802010a0a0c210d000507010973090f0a4e1c0b301d130b4e1b0b3f0d020103021b3d01020f1a06013d1b4f"
   ]
  },
  {
   "cell_type": "code",
   "execution_count": 153,
   "metadata": {},
   "outputs": [],
   "source": [
    "out_str_hex = \"00000000000000730b0e001a1d07311d150b0a4f1a3c4815060b4f083a0d0d0a4e0008730b13171e1b0f3d090d171d061d730e0e1c4e010f27010e000f034e370d070b001c0b730c141c070109733f0e1c020b4e0409134e272642736208000d031b37010f094e07072048030f1d060d731f0e1c054f013d4802010a0a0c210d000507010973090f0a4e1c0b301d130b4e1b0b3f0d020103021b3d01020f1a06013d1b4f\"\n",
    "key = \"Shannon\""
   ]
  },
  {
   "cell_type": "code",
   "execution_count": 154,
   "metadata": {},
   "outputs": [],
   "source": [
    "def str_to_hex(in_str):\n",
    "    result = \"\"\n",
    "    for i in in_str:\n",
    "        ch = f\"{ord(i):x}\"\n",
    "        if len(ch) == 1:\n",
    "            ch = f'0{ch}'\n",
    "        result += ch\n",
    "    return result"
   ]
  },
  {
   "cell_type": "code",
   "execution_count": 155,
   "metadata": {},
   "outputs": [],
   "source": [
    "with open('data/task5/task15.input', 'r') as f:\n",
    "    in_str = f.read()\n",
    "\n",
    "in_str_hex = str_to_hex(in_str)\n",
    "key_hex = str_to_hex(key)\n",
    "key_hex = (key_hex * round((len(in_str_hex) / len(key_hex)) + 0.5))[:len(in_str_hex)]"
   ]
  },
  {
   "cell_type": "code",
   "execution_count": 157,
   "metadata": {},
   "outputs": [],
   "source": [
    "result = xor_two_hex_str(in_str_hex, key_hex)"
   ]
  },
  {
   "cell_type": "code",
   "execution_count": 158,
   "metadata": {},
   "outputs": [
    {
     "data": {
      "text/plain": [
       "True"
      ]
     },
     "execution_count": 158,
     "metadata": {},
     "output_type": "execute_result"
    }
   ],
   "source": [
    "result == out_str_hex.upper()"
   ]
  },
  {
   "cell_type": "markdown",
   "metadata": {},
   "source": [
    "## Задание 6.\n",
    "Задание: Расшифруйте данные зашифрованные XOR'ом с повторяющимся ключом.  \n",
    "Входные данные: *data/task6/\\**"
   ]
  },
  {
   "cell_type": "code",
   "execution_count": 5,
   "metadata": {},
   "outputs": [],
   "source": [
    "def hamming_distance(in_byte_1, in_byte_2):\n",
    "    dist = 0\n",
    "    for b1, b2 in zip(in_byte_1, in_byte_2):\n",
    "        diff = b1 ^ b2\n",
    "        dist += sum([1 for bit in bin(diff) if bit == '1'])\n",
    "    return dist\n",
    "\n",
    "\n",
    "def xor_bytеs_and_byte(byte_str, byte_symb):\n",
    "    result = b''\n",
    "    for i in range(len(byte_str)):\n",
    "        result += bytes([byte_str[i] ^ byte_symb])\n",
    "    return result\n",
    "\n",
    "\n",
    "def bytes_to_str(byte_str):\n",
    "    result = \"\"\n",
    "    for i in range(len(byte_str)):\n",
    "        result += chr(byte_str[i])\n",
    "    return result\n",
    "\n",
    "\n",
    "def xor_two_bytes(b1, b2):\n",
    "    assert len(b1) == len(b2)\n",
    "    result = b''\n",
    "    for i in range(len(b1)):\n",
    "        result += bytes([b1[i] ^ b2[i]])\n",
    "    return result\n",
    "\n",
    "\n",
    "def keysize_xor_duplecate_key(data_byte, max_keysize=41):\n",
    "    avg_dist = []\n",
    "\n",
    "    for keysize in range(2,max_keysize):\n",
    "        distances = []\n",
    "        chunks = [data[i:i+keysize] for i in range(0, len(data), keysize)]\n",
    "        while True:\n",
    "            try:\n",
    "                chunk_1 = chunks[0]\n",
    "                chunk_2 = chunks[1]\n",
    "                dist = hamming_distance(chunk_1, chunk_2)\n",
    "                distances.append(dist/keysize)\n",
    "                del chunks[0]\n",
    "                del chunks[1]\n",
    "            except Exception as e:\n",
    "                break\n",
    "\n",
    "        result = { 'key': keysize, 'score': sum(distances) / len(distances) }\n",
    "        avg_dist.append(result)\n",
    "\n",
    "    return sorted(avg_dist, key=lambda x: x['score'])\n",
    "\n",
    "\n",
    "def brut_xor_duplecate_key(data_byte):\n",
    "    key_sizes = keysize_xor_duplecate_key(data)\n",
    "    text_reg = re.compile(u\"[^a-zA-Z0-9?!\\-_.,:;'`\\n\\t\\v ]\")\n",
    "    freq_symb = [' ', 'e', 'a', 'o', 'i', 'u', 't', 'n', 's', 'h']\n",
    "    key = b''\n",
    "    for k in key_sizes:\n",
    "        \n",
    "        possible_key_len = k['key']\n",
    "        for i in range(possible_key_len):\n",
    "            block = b''\n",
    "            for j in range(i, len(data), possible_key_len):\n",
    "                block += bytes([data[j]])\n",
    "\n",
    "            unique_symb = list(set(block))\n",
    "            count_values = [block.count(i) for i in unique_symb]\n",
    "            symb_decode = unique_symb[count_values.index(max(count_values))]\n",
    "\n",
    "            k = b\"\"\n",
    "            for symb in freq_symb:\n",
    "                symb_key = symb_decode ^ ord(symb)\n",
    "\n",
    "                result_bytes = xor_bytеs_and_byte(block, symb_key)\n",
    "                result_str = bytes_to_str(result_bytes)\n",
    "                result_str_reg = text_reg.sub('', result_str)\n",
    "\n",
    "                if len(result_str_reg) == len(result_str):\n",
    "                    k = symb_key\n",
    "                    break\n",
    "                    \n",
    "            if not k:\n",
    "                key = b''\n",
    "                break\n",
    "            key += bytes([k])\n",
    "            \n",
    "        if key:\n",
    "            return key\n",
    "    \n",
    "    return None"
   ]
  },
  {
   "cell_type": "code",
   "execution_count": 18,
   "metadata": {},
   "outputs": [
    {
     "name": "stdout",
     "output_type": "stream",
     "text": [
      "file: task160.input  key: b'Robert Laurence Binyon'\n",
      "\n",
      "How dark, how quiet sleeps the vale below!\n",
      "In the dim farms, look, not a window shines:\n",
      "Distantly heard among the lonely pines,\n",
      "How soft the languid autumn breezes flow\n",
      "Past me, and kiss my hair, and cheek, and mouth!\n",
      "Half--veiled is the calm sky:\n",
      "Jupiter's kingly eye\n",
      "Alone glows full in the unclouded South.\n",
      "\n",
      "Alas! and can sweet Night avail to heal\n",
      "Not one of the world's wounds? Must I, even here,\n",
      "Still listen with the mind's too wakeful ear\n",
      "To that sad sound, which in my flesh I feel;\n",
      "Sound of unresting, unrejoicing feet,\n",
      "With feverish steps or slow\n",
      "For ever, to and fro,\n",
      "Pacing the gay, thronged, friendless, stony street?\n",
      "\n",
      "Nature is free; but Man the eternal slave\n",
      "Of care and passion. Must I deem that true?\n",
      "With fields and quiet have we nought to do,\n",
      "Because our spirits for ever crave and crave,\n",
      "And never found their satisfaction yet?\n",
      "World, is thy heart so cold,\n",
      "So deeply weary and old,\n",
      "That thy sole business is but to forget?\n",
      "\n",
      "No, no! these perfect trees, with whispering voice,\n",
      "These flowers, that have to thee a solace been,\n",
      "And yet an alien solace, so serene\n",
      "They live, and in their life seem to rejoice;\n",
      "Life how unlike to thine! These flowers, these trees,\n",
      "Are children of one birth\n",
      "With thee, O Man; as Earth,\n",
      "Earth, still so fair, for all thy ravages,\n",
      "\n",
      "Is sister to yon radiant Jupiter,\n",
      "Who with such glorious and untroubled gaze\n",
      "Upon his own course burning down Heaven's ways\n",
      "Across deep seas of darkness looks at her!\n",
      "Perchance in his vast bosom he, too, keeps\n",
      "Like ferment, like distress;\n",
      "Yet tranquil shines not less,\n",
      "Lord of the night, that round his splendour sleeps.\n",
      "------------------------------------------\n",
      "\n",
      "file: task161.input  key: b'Terminator X: Bring the noise'\n",
      "\n",
      "I'm back and I'm ringin' the bell \n",
      "A rockin' on the mike while the fly girls yell \n",
      "In ecstasy in the back of me \n",
      "Well that's my DJ Deshay cuttin' all them Z's \n",
      "Hittin' hard and the girlies goin' crazy \n",
      "Vanilla's on the mike, man I'm not lazy. \n",
      "\n",
      "I'm lettin' my drug kick in \n",
      "It controls my mouth and I begin \n",
      "To just let it flow, let my concepts go \n",
      "My posse's to the side yellin', Go Vanilla Go! \n",
      "\n",
      "Smooth 'cause that's the way I will be \n",
      "And if you don't give a damn, then \n",
      "Why you starin' at me \n",
      "So get off 'cause I control the stage \n",
      "There's no dissin' allowed \n",
      "I'm in my own phase \n",
      "The girlies sa y they love me and that is ok \n",
      "And I can dance better than any kid n' play \n",
      "\n",
      "Stage 2 -- Yea the one ya' wanna listen to \n",
      "It's off my head so let the beat play through \n",
      "So I can funk it up and make it sound good \n",
      "1-2-3 Yo -- Knock on some wood \n",
      "For good luck, I like my rhymes atrocious \n",
      "Supercalafragilisticexpialidocious \n",
      "I'm an effect and that you can bet \n",
      "I can take a fly girl and make her wet. \n",
      "\n",
      "I'm like Samson -- Samson to Delilah \n",
      "There's no denyin', You can try to hang \n",
      "But you'll keep tryin' to get my style \n",
      "Over and over, practice makes perfect \n",
      "But not if you're a loafer. \n",
      "\n",
      "You'll get nowhere, no place, no time, no girls \n",
      "Soon -- Oh my God, homebody, you probably eat \n",
      "Spaghetti with a spoon! Come on and say it! \n",
      "\n",
      "VIP. Vanilla Ice yep, yep, I'm comin' hard like a rhino \n",
      "Intoxicating so you stagger like a wino \n",
      "So punks stop trying and girl stop cryin' \n",
      "Vanilla Ice is sellin' and you people are buyin' \n",
      "'Cause why the freaks are jockin' like Crazy Glue \n",
      "Movin' and groovin' trying to sing along \n",
      "All through the ghetto groovin' this here song \n",
      "Now you're amazed by the VIP posse. \n",
      "\n",
      "Steppin' so hard like a German Nazi \n",
      "Startled by the bases hittin' ground \n",
      "There's no trippin' on mine, I'm just gettin' down \n",
      "Sparkamatic, I'm hangin' tight like a fanatic \n",
      "You trapped me once and I thought that \n",
      "You might have it \n",
      "So step down and lend me your ear \n",
      "'89 in my time! You, '90 is my year. \n",
      "\n",
      "You're weakenin' fast, YO! and I can tell it \n",
      "Your body's gettin' hot, so, so I can smell it \n",
      "So don't be mad and don't be sad \n",
      "'Cause the lyrics belong to ICE, You can call me Dad \n",
      "You're pitchin' a fit, so step back and endure \n",
      "Let the witch doctor, Ice, do the dance to cure \n",
      "So come up close and don't be square \n",
      "You wanna battle me -- Anytime, anywhere \n",
      "\n",
      "You thought that I was weak, Boy, you're dead wrong \n",
      "So come on, everybody and sing this song \n",
      "\n",
      "Say -- Play that funky music Say, go white boy, go white boy go \n",
      "play that funky music Go white boy, go white boy, go \n",
      "Lay down and boogie and play that funky music till you die. \n",
      "\n",
      "Play that funky music Come on, Come on, let me hear \n",
      "Play that funky music white boy you say it, say it \n",
      "Play that funky music A little louder now \n",
      "Play that funky music, white boy Come on, Come on, Come on \n",
      "Play that funky music \n",
      "\n",
      "------------------------------------------\n",
      "\n"
     ]
    }
   ],
   "source": [
    "data_dir = \"data/task6\"\n",
    "data_files = os.listdir(data_dir)\n",
    "data_files.sort()\n",
    "\n",
    "for data_file in data_files:\n",
    "    \n",
    "    with open(os.path.join(data_dir, data_file), 'r') as f:\n",
    "        data = base64.b64decode(f.read())\n",
    "\n",
    "    key = brut_xor_duplecate_key(data)\n",
    "    key_repeat = (key * round((len(data) / len(key)) + 0.5))[:len(data)]\n",
    "    result_bytes = xor_two_bytes(data, key_repeat)\n",
    "    result_str = bytes_to_str(result_bytes)\n",
    "    print(f\"file: {data_file}  key: {key}\\n\")\n",
    "    print(result_str)\n",
    "    print(\"------------------------------------------\\n\")"
   ]
  },
  {
   "cell_type": "code",
   "execution_count": null,
   "metadata": {},
   "outputs": [],
   "source": []
  }
 ],
 "metadata": {
  "kernelspec": {
   "display_name": "Python 3",
   "language": "python",
   "name": "python3"
  },
  "language_info": {
   "codemirror_mode": {
    "name": "ipython",
    "version": 3
   },
   "file_extension": ".py",
   "mimetype": "text/x-python",
   "name": "python",
   "nbconvert_exporter": "python",
   "pygments_lexer": "ipython3",
   "version": "3.6.9"
  }
 },
 "nbformat": 4,
 "nbformat_minor": 4
}
